{
  "nbformat": 4,
  "nbformat_minor": 0,
  "metadata": {
    "colab": {
      "provenance": [],
      "authorship_tag": "ABX9TyMS/YUZ+6Pb/WN7vgPtorSD",
      "include_colab_link": true
    },
    "kernelspec": {
      "name": "python3",
      "display_name": "Python 3"
    },
    "language_info": {
      "name": "python"
    }
  },
  "cells": [
    {
      "cell_type": "markdown",
      "metadata": {
        "id": "view-in-github",
        "colab_type": "text"
      },
      "source": [
        "<a href=\"https://colab.research.google.com/github/rational-ghost/notes/blob/main/Supervised%20Learning%20with%20scikit-learn.ipynb\" target=\"_parent\"><img src=\"https://colab.research.google.com/assets/colab-badge.svg\" alt=\"Open In Colab\"/></a>"
      ]
    },
    {
      "cell_type": "markdown",
      "source": [
        "# Datasets"
      ],
      "metadata": {
        "id": "aKD8MQhnRtLb"
      }
    },
    {
      "cell_type": "code",
      "source": [
        "import numpy as np\n",
        "import pandas as pd"
      ],
      "metadata": {
        "id": "idYrXJfXRrR0"
      },
      "execution_count": 67,
      "outputs": []
    },
    {
      "cell_type": "code",
      "execution_count": 134,
      "metadata": {
        "id": "C0Udu56oRfA3"
      },
      "outputs": [],
      "source": [
        "sales_df = pd.read_csv('https://assets.datacamp.com/production/repositories/5981/datasets/0013cbcdf127f3b44e855eb1df754b9dc3526d02/advertising_and_sales_clean.csv')\n",
        "diabetes_df = pd.read_csv('https://assets.datacamp.com/production/repositories/5981/datasets/3d7b5bbdc7e91636cb1f9b62d9ca2a3959ce8aab/diabetes_clean.csv')\n",
        "churn_df = pd.read_csv('https://assets.datacamp.com/production/repositories/5981/datasets/8582db71ec282f17c504c8eb794d54758fd8d5d8/telecom_churn_clean.csv')\n",
        "music_df = pd.read_csv('https://assets.datacamp.com/production/repositories/5981/datasets/57b6060817a160b8d971c698766e485f2c6a4455/music_clean.csv')"
      ]
    },
    {
      "cell_type": "markdown",
      "source": [
        "# Classification"
      ],
      "metadata": {
        "id": "gO39eKMkTAsE"
      }
    },
    {
      "cell_type": "markdown",
      "source": [
        "## Machine learning with scikit-learn"
      ],
      "metadata": {
        "id": "Bg4J9KlwTFb1"
      }
    },
    {
      "cell_type": "code",
      "source": [
        "# !pip uninstall scikit-learn -y\n",
        "\n",
        "# !pip install -U scikit-learn"
      ],
      "metadata": {
        "id": "ndo66BgYUAvB"
      },
      "execution_count": 9,
      "outputs": []
    },
    {
      "cell_type": "code",
      "source": [
        "import sklearn\n",
        "sklearn.__version__"
      ],
      "metadata": {
        "colab": {
          "base_uri": "https://localhost:8080/",
          "height": 36
        },
        "id": "FLKgbqB2Unlw",
        "outputId": "d309090f-acc2-452a-ae67-a05fa251af2d"
      },
      "execution_count": 10,
      "outputs": [
        {
          "output_type": "execute_result",
          "data": {
            "text/plain": [
              "'1.2.2'"
            ],
            "application/vnd.google.colaboratory.intrinsic+json": {
              "type": "string"
            }
          },
          "metadata": {},
          "execution_count": 10
        }
      ]
    },
    {
      "cell_type": "markdown",
      "source": [
        "scikit-learn syntax\n",
        "```\n",
        "from sklearn.module import Model\n",
        "model = Model()\n",
        "model.fit(X, y)\n",
        "predictions = model.predict(X_new)\n",
        "print(predictions)\n",
        "```"
      ],
      "metadata": {
        "id": "n6B7Y9pNVDej"
      }
    },
    {
      "cell_type": "markdown",
      "source": [
        "### Binary classification"
      ],
      "metadata": {
        "id": "h1JtISwcTP7I"
      }
    },
    {
      "cell_type": "markdown",
      "source": [
        "In the video, you saw that there are two types of supervised learning — classification and regression. Recall that binary classification is used to predict a target variable that has only two labels, typically represented numerically with a zero or a one.\n",
        "\n",
        "Your task is to examine the data and choose which column could be the target variable for binary classification."
      ],
      "metadata": {
        "id": "SIYzLPJPTTSt"
      }
    },
    {
      "cell_type": "code",
      "source": [
        "churn_df.info()"
      ],
      "metadata": {
        "colab": {
          "base_uri": "https://localhost:8080/"
        },
        "id": "8iW75roHRv-k",
        "outputId": "44803eb7-4118-49bc-f4a5-e664d0bd534a"
      },
      "execution_count": 8,
      "outputs": [
        {
          "output_type": "stream",
          "name": "stdout",
          "text": [
            "<class 'pandas.core.frame.DataFrame'>\n",
            "RangeIndex: 3333 entries, 0 to 3332\n",
            "Data columns (total 20 columns):\n",
            " #   Column                  Non-Null Count  Dtype  \n",
            "---  ------                  --------------  -----  \n",
            " 0   Unnamed: 0              3333 non-null   int64  \n",
            " 1   account_length          3333 non-null   int64  \n",
            " 2   area_code               3333 non-null   int64  \n",
            " 3   international_plan      3333 non-null   int64  \n",
            " 4   voice_mail_plan         3333 non-null   int64  \n",
            " 5   number_vmail_messages   3333 non-null   int64  \n",
            " 6   total_day_minutes       3333 non-null   float64\n",
            " 7   total_day_calls         3333 non-null   int64  \n",
            " 8   total_day_charge        3333 non-null   float64\n",
            " 9   total_eve_minutes       3333 non-null   float64\n",
            " 10  total_eve_calls         3333 non-null   int64  \n",
            " 11  total_eve_charge        3333 non-null   float64\n",
            " 12  total_night_minutes     3333 non-null   float64\n",
            " 13  total_night_calls       3333 non-null   int64  \n",
            " 14  total_night_charge      3333 non-null   float64\n",
            " 15  total_intl_minutes      3333 non-null   float64\n",
            " 16  total_intl_calls        3333 non-null   int64  \n",
            " 17  total_intl_charge       3333 non-null   float64\n",
            " 18  customer_service_calls  3333 non-null   int64  \n",
            " 19  churn                   3333 non-null   int64  \n",
            "dtypes: float64(8), int64(12)\n",
            "memory usage: 520.9 KB\n"
          ]
        }
      ]
    },
    {
      "cell_type": "code",
      "source": [
        "churn_df['churn'].sample(n=5)"
      ],
      "metadata": {
        "colab": {
          "base_uri": "https://localhost:8080/"
        },
        "id": "9fQEpVnvTOgi",
        "outputId": "13f421ba-8104-4044-ea7f-962992f9ad00"
      },
      "execution_count": 11,
      "outputs": [
        {
          "output_type": "execute_result",
          "data": {
            "text/plain": [
              "90      0\n",
              "2553    0\n",
              "472     0\n",
              "2121    0\n",
              "397     1\n",
              "Name: churn, dtype: int64"
            ]
          },
          "metadata": {},
          "execution_count": 11
        }
      ]
    },
    {
      "cell_type": "markdown",
      "source": [
        "## The classification challenge"
      ],
      "metadata": {
        "id": "Pj-EfTiuToq6"
      }
    },
    {
      "cell_type": "markdown",
      "source": [
        "Classifying labels of unseen data\n",
        "\n",
        "1. Build a model\n",
        "2. Model learns from the labeled data we pass to it\n",
        "3. Pass unlabeled data to the model as input\n",
        "4. Model predicts the labeles of unseen data\n",
        "\n",
        "labeled data = training data"
      ],
      "metadata": {
        "id": "YPxFHhHqVgYb"
      }
    },
    {
      "cell_type": "code",
      "source": [
        "from sklearn.neighbors import KNeighborsClassifier"
      ],
      "metadata": {
        "id": "IxHzqjcXTbyL"
      },
      "execution_count": 76,
      "outputs": []
    },
    {
      "cell_type": "markdown",
      "source": [
        "We split our data into X, a 2D array of our features, and y, a 1D array of the target values - in this case, churn status. scikit-learn requires that the features are in an array where each column is a feature and each row a different observation. Similarly, the target needs to be a single column with the same number of observations as the feature data. We use the dot-values attribute to convert X and y to NumPy arrays. "
      ],
      "metadata": {
        "id": "FIUNfx4kW2X2"
      }
    },
    {
      "cell_type": "code",
      "source": [
        "X = churn_df[['total_day_charge', 'total_eve_charge']].values\n",
        "X"
      ],
      "metadata": {
        "colab": {
          "base_uri": "https://localhost:8080/"
        },
        "id": "5jPiNnioWNo3",
        "outputId": "da01afe4-e148-4a66-aec4-881cb49e319c"
      },
      "execution_count": 62,
      "outputs": [
        {
          "output_type": "execute_result",
          "data": {
            "text/plain": [
              "array([[45.07, 16.78],\n",
              "       [27.47, 16.62],\n",
              "       [41.38, 10.3 ],\n",
              "       ...,\n",
              "       [30.74, 24.55],\n",
              "       [36.35, 13.57],\n",
              "       [39.85, 22.6 ]])"
            ]
          },
          "metadata": {},
          "execution_count": 62
        }
      ]
    },
    {
      "cell_type": "code",
      "source": [
        "y = churn_df['churn'].values\n",
        "y"
      ],
      "metadata": {
        "colab": {
          "base_uri": "https://localhost:8080/"
        },
        "id": "SrVA6Wa6WWiz",
        "outputId": "a3ea8ecf-9019-4385-9c43-de129e2b1e37"
      },
      "execution_count": 70,
      "outputs": [
        {
          "output_type": "execute_result",
          "data": {
            "text/plain": [
              "array([0, 0, 0, ..., 0, 0, 0])"
            ]
          },
          "metadata": {},
          "execution_count": 70
        }
      ]
    },
    {
      "cell_type": "code",
      "source": [
        "X.shape, y.shape"
      ],
      "metadata": {
        "colab": {
          "base_uri": "https://localhost:8080/"
        },
        "id": "Mt9jqU7JWgqO",
        "outputId": "67ccae09-f7c7-49cc-b0c0-2ec34bd6273e"
      },
      "execution_count": 47,
      "outputs": [
        {
          "output_type": "execute_result",
          "data": {
            "text/plain": [
              "((3333, 2), (3333, 1))"
            ]
          },
          "metadata": {},
          "execution_count": 47
        }
      ]
    },
    {
      "cell_type": "code",
      "source": [
        "# Instantiate our KNeighborsClassifier\n",
        "knn = KNeighborsClassifier(n_neighbors=15)\n",
        "\n",
        "# Fit this classifier to our labeled data\n",
        "knn.fit(X, y)\n",
        "\n",
        "# Predicting on unlabeled data\n",
        "X_new = np.array(\n",
        "    [[65.8, 17.5],\n",
        "     [24.4, 24.1],\n",
        "     [50.1, 10.9]]\n",
        "     )\n",
        "\n",
        "X_new.shape"
      ],
      "metadata": {
        "colab": {
          "base_uri": "https://localhost:8080/"
        },
        "id": "11rGecAjW66w",
        "outputId": "8ec668fc-7fb1-4663-e3d0-193250253fe7"
      },
      "execution_count": 71,
      "outputs": [
        {
          "output_type": "execute_result",
          "data": {
            "text/plain": [
              "(3, 2)"
            ]
          },
          "metadata": {},
          "execution_count": 71
        }
      ]
    },
    {
      "cell_type": "code",
      "source": [
        "predictions = knn.predict(X_new)\n",
        "predictions"
      ],
      "metadata": {
        "colab": {
          "base_uri": "https://localhost:8080/"
        },
        "id": "KdCG8ZyIXowM",
        "outputId": "a42e1f76-e360-4a24-aeea-73f2afc9e160"
      },
      "execution_count": 72,
      "outputs": [
        {
          "output_type": "execute_result",
          "data": {
            "text/plain": [
              "array([1, 0, 0])"
            ]
          },
          "metadata": {},
          "execution_count": 72
        }
      ]
    },
    {
      "cell_type": "markdown",
      "source": [
        "### k-Nearest Neighbors: Fit"
      ],
      "metadata": {
        "id": "MGO6Z7lRYHPv"
      }
    },
    {
      "cell_type": "markdown",
      "source": [
        "The features to use will be \"account_length\" and \"customer_service_calls\". The target, \"churn\", needs to be a single column with the same number of observations as the feature data.\n",
        "\n",
        "You will convert the features and the target variable into NumPy arrays, create an instance of a KNN classifier, and then fit it to the data."
      ],
      "metadata": {
        "id": "0QfcMWTTYM67"
      }
    },
    {
      "cell_type": "code",
      "source": [
        "# Import KNeighborsClassifier\n",
        "from sklearn.neighbors import KNeighborsClassifier"
      ],
      "metadata": {
        "id": "GRmQ4t8lX3wu"
      },
      "execution_count": 50,
      "outputs": []
    },
    {
      "cell_type": "code",
      "source": [
        "# Create arrays for the features and the target variable\n",
        "y = churn_df[\"churn\"].values\n",
        "X = churn_df[[\"account_length\", \"customer_service_calls\"]].values"
      ],
      "metadata": {
        "id": "0Q-Fem1HYXWG"
      },
      "execution_count": 51,
      "outputs": []
    },
    {
      "cell_type": "code",
      "source": [
        "# Create a KNN classifier with 6 neighbors\n",
        "knn = KNeighborsClassifier(n_neighbors=6)\n",
        "\n",
        "# Fit the classifier to the data\n",
        "knn.fit(X, y)"
      ],
      "metadata": {
        "colab": {
          "base_uri": "https://localhost:8080/",
          "height": 0
        },
        "id": "hHnlgocLYmV1",
        "outputId": "b6d62641-9a81-42e0-c5aa-35df4555a030"
      },
      "execution_count": 52,
      "outputs": [
        {
          "output_type": "execute_result",
          "data": {
            "text/plain": [
              "KNeighborsClassifier(n_neighbors=6)"
            ],
            "text/html": [
              "<style>#sk-container-id-3 {color: black;background-color: white;}#sk-container-id-3 pre{padding: 0;}#sk-container-id-3 div.sk-toggleable {background-color: white;}#sk-container-id-3 label.sk-toggleable__label {cursor: pointer;display: block;width: 100%;margin-bottom: 0;padding: 0.3em;box-sizing: border-box;text-align: center;}#sk-container-id-3 label.sk-toggleable__label-arrow:before {content: \"▸\";float: left;margin-right: 0.25em;color: #696969;}#sk-container-id-3 label.sk-toggleable__label-arrow:hover:before {color: black;}#sk-container-id-3 div.sk-estimator:hover label.sk-toggleable__label-arrow:before {color: black;}#sk-container-id-3 div.sk-toggleable__content {max-height: 0;max-width: 0;overflow: hidden;text-align: left;background-color: #f0f8ff;}#sk-container-id-3 div.sk-toggleable__content pre {margin: 0.2em;color: black;border-radius: 0.25em;background-color: #f0f8ff;}#sk-container-id-3 input.sk-toggleable__control:checked~div.sk-toggleable__content {max-height: 200px;max-width: 100%;overflow: auto;}#sk-container-id-3 input.sk-toggleable__control:checked~label.sk-toggleable__label-arrow:before {content: \"▾\";}#sk-container-id-3 div.sk-estimator input.sk-toggleable__control:checked~label.sk-toggleable__label {background-color: #d4ebff;}#sk-container-id-3 div.sk-label input.sk-toggleable__control:checked~label.sk-toggleable__label {background-color: #d4ebff;}#sk-container-id-3 input.sk-hidden--visually {border: 0;clip: rect(1px 1px 1px 1px);clip: rect(1px, 1px, 1px, 1px);height: 1px;margin: -1px;overflow: hidden;padding: 0;position: absolute;width: 1px;}#sk-container-id-3 div.sk-estimator {font-family: monospace;background-color: #f0f8ff;border: 1px dotted black;border-radius: 0.25em;box-sizing: border-box;margin-bottom: 0.5em;}#sk-container-id-3 div.sk-estimator:hover {background-color: #d4ebff;}#sk-container-id-3 div.sk-parallel-item::after {content: \"\";width: 100%;border-bottom: 1px solid gray;flex-grow: 1;}#sk-container-id-3 div.sk-label:hover label.sk-toggleable__label {background-color: #d4ebff;}#sk-container-id-3 div.sk-serial::before {content: \"\";position: absolute;border-left: 1px solid gray;box-sizing: border-box;top: 0;bottom: 0;left: 50%;z-index: 0;}#sk-container-id-3 div.sk-serial {display: flex;flex-direction: column;align-items: center;background-color: white;padding-right: 0.2em;padding-left: 0.2em;position: relative;}#sk-container-id-3 div.sk-item {position: relative;z-index: 1;}#sk-container-id-3 div.sk-parallel {display: flex;align-items: stretch;justify-content: center;background-color: white;position: relative;}#sk-container-id-3 div.sk-item::before, #sk-container-id-3 div.sk-parallel-item::before {content: \"\";position: absolute;border-left: 1px solid gray;box-sizing: border-box;top: 0;bottom: 0;left: 50%;z-index: -1;}#sk-container-id-3 div.sk-parallel-item {display: flex;flex-direction: column;z-index: 1;position: relative;background-color: white;}#sk-container-id-3 div.sk-parallel-item:first-child::after {align-self: flex-end;width: 50%;}#sk-container-id-3 div.sk-parallel-item:last-child::after {align-self: flex-start;width: 50%;}#sk-container-id-3 div.sk-parallel-item:only-child::after {width: 0;}#sk-container-id-3 div.sk-dashed-wrapped {border: 1px dashed gray;margin: 0 0.4em 0.5em 0.4em;box-sizing: border-box;padding-bottom: 0.4em;background-color: white;}#sk-container-id-3 div.sk-label label {font-family: monospace;font-weight: bold;display: inline-block;line-height: 1.2em;}#sk-container-id-3 div.sk-label-container {text-align: center;}#sk-container-id-3 div.sk-container {/* jupyter's `normalize.less` sets `[hidden] { display: none; }` but bootstrap.min.css set `[hidden] { display: none !important; }` so we also need the `!important` here to be able to override the default hidden behavior on the sphinx rendered scikit-learn.org. See: https://github.com/scikit-learn/scikit-learn/issues/21755 */display: inline-block !important;position: relative;}#sk-container-id-3 div.sk-text-repr-fallback {display: none;}</style><div id=\"sk-container-id-3\" class=\"sk-top-container\"><div class=\"sk-text-repr-fallback\"><pre>KNeighborsClassifier(n_neighbors=6)</pre><b>In a Jupyter environment, please rerun this cell to show the HTML representation or trust the notebook. <br />On GitHub, the HTML representation is unable to render, please try loading this page with nbviewer.org.</b></div><div class=\"sk-container\" hidden><div class=\"sk-item\"><div class=\"sk-estimator sk-toggleable\"><input class=\"sk-toggleable__control sk-hidden--visually\" id=\"sk-estimator-id-3\" type=\"checkbox\" checked><label for=\"sk-estimator-id-3\" class=\"sk-toggleable__label sk-toggleable__label-arrow\">KNeighborsClassifier</label><div class=\"sk-toggleable__content\"><pre>KNeighborsClassifier(n_neighbors=6)</pre></div></div></div></div></div>"
            ]
          },
          "metadata": {},
          "execution_count": 52
        }
      ]
    },
    {
      "cell_type": "code",
      "source": [
        "# Import KNeighborsClassifier\n",
        "from sklearn.neighbors import KNeighborsClassifier\n",
        "\n",
        "# Create arrays for the features and the target variable\n",
        "y = churn_df[\"churn\"].values\n",
        "X = churn_df[[\"account_length\", \"customer_service_calls\"]].values\n",
        "\n",
        "# Create a KNN classifier with 6 neighbors\n",
        "knn = KNeighborsClassifier(n_neighbors=6)\n",
        "\n",
        "# Fit the classifier to the data\n",
        "knn.fit(X, y)"
      ],
      "metadata": {
        "colab": {
          "base_uri": "https://localhost:8080/",
          "height": 0
        },
        "id": "nLlUjO6AYU1T",
        "outputId": "026be03a-559f-4ed0-d395-55e9d729b7ab"
      },
      "execution_count": 53,
      "outputs": [
        {
          "output_type": "execute_result",
          "data": {
            "text/plain": [
              "KNeighborsClassifier(n_neighbors=6)"
            ],
            "text/html": [
              "<style>#sk-container-id-4 {color: black;background-color: white;}#sk-container-id-4 pre{padding: 0;}#sk-container-id-4 div.sk-toggleable {background-color: white;}#sk-container-id-4 label.sk-toggleable__label {cursor: pointer;display: block;width: 100%;margin-bottom: 0;padding: 0.3em;box-sizing: border-box;text-align: center;}#sk-container-id-4 label.sk-toggleable__label-arrow:before {content: \"▸\";float: left;margin-right: 0.25em;color: #696969;}#sk-container-id-4 label.sk-toggleable__label-arrow:hover:before {color: black;}#sk-container-id-4 div.sk-estimator:hover label.sk-toggleable__label-arrow:before {color: black;}#sk-container-id-4 div.sk-toggleable__content {max-height: 0;max-width: 0;overflow: hidden;text-align: left;background-color: #f0f8ff;}#sk-container-id-4 div.sk-toggleable__content pre {margin: 0.2em;color: black;border-radius: 0.25em;background-color: #f0f8ff;}#sk-container-id-4 input.sk-toggleable__control:checked~div.sk-toggleable__content {max-height: 200px;max-width: 100%;overflow: auto;}#sk-container-id-4 input.sk-toggleable__control:checked~label.sk-toggleable__label-arrow:before {content: \"▾\";}#sk-container-id-4 div.sk-estimator input.sk-toggleable__control:checked~label.sk-toggleable__label {background-color: #d4ebff;}#sk-container-id-4 div.sk-label input.sk-toggleable__control:checked~label.sk-toggleable__label {background-color: #d4ebff;}#sk-container-id-4 input.sk-hidden--visually {border: 0;clip: rect(1px 1px 1px 1px);clip: rect(1px, 1px, 1px, 1px);height: 1px;margin: -1px;overflow: hidden;padding: 0;position: absolute;width: 1px;}#sk-container-id-4 div.sk-estimator {font-family: monospace;background-color: #f0f8ff;border: 1px dotted black;border-radius: 0.25em;box-sizing: border-box;margin-bottom: 0.5em;}#sk-container-id-4 div.sk-estimator:hover {background-color: #d4ebff;}#sk-container-id-4 div.sk-parallel-item::after {content: \"\";width: 100%;border-bottom: 1px solid gray;flex-grow: 1;}#sk-container-id-4 div.sk-label:hover label.sk-toggleable__label {background-color: #d4ebff;}#sk-container-id-4 div.sk-serial::before {content: \"\";position: absolute;border-left: 1px solid gray;box-sizing: border-box;top: 0;bottom: 0;left: 50%;z-index: 0;}#sk-container-id-4 div.sk-serial {display: flex;flex-direction: column;align-items: center;background-color: white;padding-right: 0.2em;padding-left: 0.2em;position: relative;}#sk-container-id-4 div.sk-item {position: relative;z-index: 1;}#sk-container-id-4 div.sk-parallel {display: flex;align-items: stretch;justify-content: center;background-color: white;position: relative;}#sk-container-id-4 div.sk-item::before, #sk-container-id-4 div.sk-parallel-item::before {content: \"\";position: absolute;border-left: 1px solid gray;box-sizing: border-box;top: 0;bottom: 0;left: 50%;z-index: -1;}#sk-container-id-4 div.sk-parallel-item {display: flex;flex-direction: column;z-index: 1;position: relative;background-color: white;}#sk-container-id-4 div.sk-parallel-item:first-child::after {align-self: flex-end;width: 50%;}#sk-container-id-4 div.sk-parallel-item:last-child::after {align-self: flex-start;width: 50%;}#sk-container-id-4 div.sk-parallel-item:only-child::after {width: 0;}#sk-container-id-4 div.sk-dashed-wrapped {border: 1px dashed gray;margin: 0 0.4em 0.5em 0.4em;box-sizing: border-box;padding-bottom: 0.4em;background-color: white;}#sk-container-id-4 div.sk-label label {font-family: monospace;font-weight: bold;display: inline-block;line-height: 1.2em;}#sk-container-id-4 div.sk-label-container {text-align: center;}#sk-container-id-4 div.sk-container {/* jupyter's `normalize.less` sets `[hidden] { display: none; }` but bootstrap.min.css set `[hidden] { display: none !important; }` so we also need the `!important` here to be able to override the default hidden behavior on the sphinx rendered scikit-learn.org. See: https://github.com/scikit-learn/scikit-learn/issues/21755 */display: inline-block !important;position: relative;}#sk-container-id-4 div.sk-text-repr-fallback {display: none;}</style><div id=\"sk-container-id-4\" class=\"sk-top-container\"><div class=\"sk-text-repr-fallback\"><pre>KNeighborsClassifier(n_neighbors=6)</pre><b>In a Jupyter environment, please rerun this cell to show the HTML representation or trust the notebook. <br />On GitHub, the HTML representation is unable to render, please try loading this page with nbviewer.org.</b></div><div class=\"sk-container\" hidden><div class=\"sk-item\"><div class=\"sk-estimator sk-toggleable\"><input class=\"sk-toggleable__control sk-hidden--visually\" id=\"sk-estimator-id-4\" type=\"checkbox\" checked><label for=\"sk-estimator-id-4\" class=\"sk-toggleable__label sk-toggleable__label-arrow\">KNeighborsClassifier</label><div class=\"sk-toggleable__content\"><pre>KNeighborsClassifier(n_neighbors=6)</pre></div></div></div></div></div>"
            ]
          },
          "metadata": {},
          "execution_count": 53
        }
      ]
    },
    {
      "cell_type": "markdown",
      "source": [
        "### k-Nearest Neighbors: Predict"
      ],
      "metadata": {
        "id": "sh7uIzZpY0zs"
      }
    },
    {
      "cell_type": "markdown",
      "source": [
        "Now you have fit a KNN classifier, you can use it to predict the label of new data points. All available data was used for training, however, fortunately, there are new observations available. These have been preloaded for you as X_new.\n",
        "\n",
        "The model knn, which you created and fit the data in the last exercise, has been preloaded for you. You will use your classifier to predict the labels of a set of new data points:"
      ],
      "metadata": {
        "id": "0eTVaOfyY4cp"
      }
    },
    {
      "cell_type": "code",
      "source": [
        "X_new = np.array(\n",
        "    [[30.0, 17.5],\n",
        "     [107.0, 24.1],\n",
        "     [213.0, 10.9]]\n",
        "     )"
      ],
      "metadata": {
        "id": "7buv0tpkYtla"
      },
      "execution_count": 54,
      "outputs": []
    },
    {
      "cell_type": "code",
      "source": [
        "# Predict the labels for the X_new\n",
        "y_pred = knn.predict(X_new)\n",
        "\n",
        "# Print the predictions for X_new\n",
        "print(\"Predictions: {}\".format(y_pred)) "
      ],
      "metadata": {
        "colab": {
          "base_uri": "https://localhost:8080/"
        },
        "id": "akbniNWcZDhl",
        "outputId": "e9fab255-693d-4148-db1b-0dc4e34e5b9f"
      },
      "execution_count": 55,
      "outputs": [
        {
          "output_type": "stream",
          "name": "stdout",
          "text": [
            "Predictions: [0 1 0]\n"
          ]
        }
      ]
    },
    {
      "cell_type": "markdown",
      "source": [
        "## Measuring model performance"
      ],
      "metadata": {
        "id": "B5rohoNYZQxp"
      }
    },
    {
      "cell_type": "markdown",
      "source": [
        "Accuracy = correct predictions / total observations"
      ],
      "metadata": {
        "id": "3R3NrfiWd-LH"
      }
    },
    {
      "cell_type": "markdown",
      "source": [
        "We could compute accuracy on the data used to fit the classifier. However, as this data was used to train the model, performance will not be indicative of how well it can generalize to unseen data. \n",
        "\n",
        "It is common to split data into a training set and a test set."
      ],
      "metadata": {
        "id": "Rhp5m-zCeLNX"
      }
    },
    {
      "cell_type": "code",
      "source": [
        "from sklearn.model_selection import train_test_split"
      ],
      "metadata": {
        "id": "gsRQerVqeayz"
      },
      "execution_count": 43,
      "outputs": []
    },
    {
      "cell_type": "markdown",
      "source": [
        "We commonly use 20-30% of our data as the test set. By setting the `test_size` argument to `0.3` we use 30% here.\n",
        "\n",
        "The `random_state` argument sets a seed for a random number generator that splits the data. Using the same number when repeating this step allows us to reproduce the exact split and our downstream results. \n",
        "\n",
        "It is best practice to ensure our split reflects the proportion of labels in our data. So if churn occurs in 10% of observations, we want 10% of labels in our training and test sets to represent churn. We achieve this by setting `stratify` equal to `y`.\n",
        "\n",
        "`train_test_split` returns four arrays: the training data, the test data, the training labels, and the test labels. We unpack these into `X_train`, `X_test`, `y_train`, and `y_test`. "
      ],
      "metadata": {
        "id": "ugKhSPfzeZd6"
      }
    },
    {
      "cell_type": "code",
      "source": [
        "X_train, X_test, y_train, y_test = train_test_split(\n",
        "    X, \n",
        "    y,\n",
        "    test_size = 0.3,\n",
        "    random_state = 21,\n",
        "    stratify = y\n",
        "  )"
      ],
      "metadata": {
        "id": "X-MjdhwPegcA"
      },
      "execution_count": 73,
      "outputs": []
    },
    {
      "cell_type": "markdown",
      "source": [
        "We then instantiate a KNN model and fit it to the training data using the `.fit()` method. To check the accuracy, we use the `.score()` method, passing `X_test` and `y_test`. "
      ],
      "metadata": {
        "id": "Di0uxQo9fu0W"
      }
    },
    {
      "cell_type": "code",
      "source": [
        "knn = KNeighborsClassifier(n_neighbors=6)\n",
        "knn.fit(X_train, y_train)\n",
        "knn.score(X_test, y_test)"
      ],
      "metadata": {
        "colab": {
          "base_uri": "https://localhost:8080/"
        },
        "id": "cXaGwQrZfl1M",
        "outputId": "dbfecdc1-f4dd-4762-d58a-198a4aee3c6d"
      },
      "execution_count": 74,
      "outputs": [
        {
          "output_type": "execute_result",
          "data": {
            "text/plain": [
              "0.872"
            ]
          },
          "metadata": {},
          "execution_count": 74
        }
      ]
    },
    {
      "cell_type": "markdown",
      "source": [
        "The accuracy of our model is 88%, which is low given our labels have a 9 to 1 ratio."
      ],
      "metadata": {
        "id": "6Ot5J-VsgNqr"
      }
    },
    {
      "cell_type": "code",
      "source": [
        "churn_df['churn'].value_counts(normalize=True)"
      ],
      "metadata": {
        "colab": {
          "base_uri": "https://localhost:8080/"
        },
        "id": "8UnAM_hjZIhR",
        "outputId": "0e969ee7-f07d-4b1a-d8f7-8c3bcda5a29d"
      },
      "execution_count": 69,
      "outputs": [
        {
          "output_type": "execute_result",
          "data": {
            "text/plain": [
              "0    0.855086\n",
              "1    0.144914\n",
              "Name: churn, dtype: float64"
            ]
          },
          "metadata": {},
          "execution_count": 69
        }
      ]
    },
    {
      "cell_type": "markdown",
      "source": [
        "Let's discuss how to interpret `k`. \n",
        "\n",
        "Simpler models are less able to detect relationships in the dataset, which is known as underfitting. In contrast, complex models can be sensitive to noise in the training data, rather than reflecting general trends. This is known as overfitting."
      ],
      "metadata": {
        "id": "QhRDhFnihkui"
      }
    },
    {
      "cell_type": "markdown",
      "source": [
        "We can also interpret `k` using a model complexity curve. With a KNN model, we can calculate accuracy on the training and test sets using incremental k values, and plot the results."
      ],
      "metadata": {
        "id": "pxv1c9ftiFNP"
      }
    },
    {
      "cell_type": "markdown",
      "source": [
        "We create empty dictionaries to store our train and test accuracies, and an array containing a range of k values."
      ],
      "metadata": {
        "id": "1cQeLf2viIwS"
      }
    },
    {
      "cell_type": "code",
      "source": [
        "train_accuracies = {}\n",
        "test_accuracies = {}\n",
        "neighbors = np.arange(1, 26)"
      ],
      "metadata": {
        "id": "Fza2m92miIj7"
      },
      "execution_count": 78,
      "outputs": []
    },
    {
      "cell_type": "markdown",
      "source": [
        "We use a for loop to repeat our previous workflow, building several models using a different number of neighbors. "
      ],
      "metadata": {
        "id": "cX0I1pXliXjK"
      }
    },
    {
      "cell_type": "code",
      "source": [
        "for i in neighbors: \n",
        "  # Instantiate a KNN model with n_neighbors = neighbor iterator.\n",
        "  knn = KNeighborsClassifier(n_neighbors = i)\n",
        "\n",
        "  # Fit the model to the training data\n",
        "  knn.fit(X_train, y_train)\n",
        "\n",
        "  # Calculate training and test set accuracy.\n",
        "  # Store the results in respective dictionaries.\n",
        "  train_accuracies[i] = knn.score(X_train, y_train)\n",
        "  test_accuracies[i] = knn.score(X_test, y_test)"
      ],
      "metadata": {
        "id": "uT7_a0UQg66I"
      },
      "execution_count": 80,
      "outputs": []
    },
    {
      "cell_type": "code",
      "source": [
        "import matplotlib.pyplot as plt"
      ],
      "metadata": {
        "id": "uK0nzR7akV09"
      },
      "execution_count": 83,
      "outputs": []
    },
    {
      "cell_type": "code",
      "source": [
        "train_accuracies.values()"
      ],
      "metadata": {
        "colab": {
          "base_uri": "https://localhost:8080/"
        },
        "id": "bkXpYc7Yk6kP",
        "outputId": "7d095d24-72eb-437f-95bb-45ee5e6e8684"
      },
      "execution_count": 90,
      "outputs": [
        {
          "output_type": "execute_result",
          "data": {
            "text/plain": [
              "dict_values([1.0, 0.9061294470638662, 0.9048435490784398, 0.8911273039005573, 0.8906986712387484, 0.8851264466352337, 0.8829832833261895, 0.8825546506643807, 0.8834119159879983, 0.8825546506643807, 0.8812687526789541, 0.8804114873553365, 0.8816973853407629, 0.8799828546935277, 0.8834119159879983, 0.8812687526789541, 0.8808401200171453, 0.8795542220317188, 0.8786969567081011, 0.8808401200171453, 0.8808401200171453, 0.8782683240462923, 0.8821260180025718, 0.8774110587226747, 0.8812687526789541])"
            ]
          },
          "metadata": {},
          "execution_count": 90
        }
      ]
    },
    {
      "cell_type": "code",
      "source": [
        "# Plot model complexity curve\n",
        "plt.figure(figsize=(8, 6))\n",
        "plt.title('KNN model fit at n neighbors')\n",
        "\n",
        "# Plot traning set accuracy\n",
        "plt.plot(\n",
        "    neighbors, \n",
        "    train_accuracies.values(), \n",
        "    label = 'Training Accuracy')\n",
        "\n",
        "# Plot test set accuracy\n",
        "plt.plot(\n",
        "    neighbors, \n",
        "    test_accuracies.values(), \n",
        "    label = 'Testing Accuracy')\n",
        "\n",
        "# Add legend, labels, show plot\n",
        "plt.legend()\n",
        "plt.xlabel('Number of neighbors')\n",
        "plt.ylabel('Accuracy')\n",
        "plt.show()"
      ],
      "metadata": {
        "colab": {
          "base_uri": "https://localhost:8080/",
          "height": 564
        },
        "id": "X3PRj-Nxh8Vv",
        "outputId": "deda0177-1437-47b1-b0fb-139e27ef7ed4"
      },
      "execution_count": 87,
      "outputs": [
        {
          "output_type": "display_data",
          "data": {
            "text/plain": [
              "<Figure size 800x600 with 1 Axes>"
            ],
            "image/png": "[encoded data removed]"
          },
          "metadata": {}
        }
      ]
    },
    {
      "cell_type": "markdown",
      "source": [
        "### Train/test split + computing accuracy"
      ],
      "metadata": {
        "id": "jTeAx8GplgaG"
      }
    },
    {
      "cell_type": "markdown",
      "source": [
        "Now that you have learned about the importance of splitting your data into training and test sets, it's time to practice doing this on the `churn_df` dataset!"
      ],
      "metadata": {
        "id": "mbVhq94tlk92"
      }
    },
    {
      "cell_type": "code",
      "source": [
        "# Import the module\n",
        "from sklearn.model_selection import train_test_split\n",
        "\n",
        "X = churn_df.drop(\"churn\", axis=1).values\n",
        "y = churn_df[\"churn\"].values\n",
        "\n",
        "# Split into training and test sets\n",
        "X_train, X_test, y_train, y_test = train_test_split(\n",
        "    X, \n",
        "    y, \n",
        "    test_size = 0.2, \n",
        "    random_state = 42, \n",
        "    stratify = y\n",
        "    )\n",
        "knn = KNeighborsClassifier(n_neighbors=5)\n",
        "\n",
        "# Fit the classifier to the training data\n",
        "knn.fit(X_train, y_train)\n",
        "\n",
        "# Print the accuracy\n",
        "print(knn.score(X_test, y_test))"
      ],
      "metadata": {
        "colab": {
          "base_uri": "https://localhost:8080/"
        },
        "id": "iQXZr_ych8Qi",
        "outputId": "b22c5ec4-8cb5-4008-f7fc-2e652000499d"
      },
      "execution_count": 91,
      "outputs": [
        {
          "output_type": "stream",
          "name": "stdout",
          "text": [
            "0.8545727136431784\n"
          ]
        }
      ]
    },
    {
      "cell_type": "markdown",
      "source": [
        "### Overfitting and underfitting"
      ],
      "metadata": {
        "id": "GkcACQAnmy8r"
      }
    },
    {
      "cell_type": "markdown",
      "source": [
        "Interpreting model complexity is a great way to evaluate performance when utilizing supervised learning. Your aim is to produce a model that can interpret the relationship between features and the target variable, as well as generalize well when exposed to new observations.\n",
        "\n",
        "You will generate accuracy scores for the training and test sets using a KNN classifier with different n_neighbor values, which you will plot in the next exercise.\n",
        "\n",
        "The training and test sets have been created from the churn_df dataset and preloaded as `X_train`, `X_test`, `y_train`, and `y_test`. "
      ],
      "metadata": {
        "id": "3d27MN9Vm0oI"
      }
    },
    {
      "cell_type": "code",
      "source": [
        "# Create neighbors\n",
        "neighbors = np.arange(1, 13)\n",
        "train_accuracies = {}\n",
        "test_accuracies = {}\n",
        "\n",
        "for neighbor in neighbors:\n",
        "  \n",
        "\t# Set up a KNN Classifier\n",
        "\tknn = KNeighborsClassifier(n_neighbors = neighbor)\n",
        "  \n",
        "\t# Fit the model\n",
        "\tknn.fit(X_train, y_train)\n",
        "  \n",
        "\t# Compute accuracy\n",
        "\ttrain_accuracies[neighbor] = knn.score(X_train, y_train)\n",
        "\ttest_accuracies[neighbor] = knn.score(X_test, y_test)\n",
        "print(neighbors, '\\n', train_accuracies, '\\n', test_accuracies)"
      ],
      "metadata": {
        "colab": {
          "base_uri": "https://localhost:8080/"
        },
        "id": "QPjkkEQLmN8m",
        "outputId": "46358b1f-cce3-490c-a5ac-fbc4de29af6a"
      },
      "execution_count": 93,
      "outputs": [
        {
          "output_type": "stream",
          "name": "stdout",
          "text": [
            "[ 1  2  3  4  5  6  7  8  9 10 11 12] \n",
            " {1: 1.0, 2: 0.8885971492873218, 3: 0.8994748687171793, 4: 0.8750937734433608, 5: 0.878469617404351, 6: 0.8660915228807202, 7: 0.8705926481620405, 8: 0.8615903975993998, 9: 0.86384096024006, 10: 0.858589647411853, 11: 0.8604651162790697, 12: 0.8574643660915229} \n",
            " {1: 0.7856071964017991, 2: 0.8470764617691154, 3: 0.8320839580209896, 4: 0.856071964017991, 5: 0.8545727136431784, 6: 0.8590704647676162, 7: 0.8605697151424287, 8: 0.8620689655172413, 9: 0.863568215892054, 10: 0.8605697151424287, 11: 0.8605697151424287, 12: 0.8605697151424287}\n"
          ]
        }
      ]
    },
    {
      "cell_type": "markdown",
      "source": [
        "Notice how training accuracy decreases as the number of neighbors initially gets larger, and vice versa for the testing accuracy? These scores would be much easier to interpret in a line plot, so let's produce a model complexity curve of these results."
      ],
      "metadata": {
        "id": "GLreSuEXnqAW"
      }
    },
    {
      "cell_type": "markdown",
      "source": [
        "### Visualizing model complexity\n",
        "Now you have calculated the accuracy of the KNN model on the training and test sets using various values of n_neighbors, you can create a model complexity curve to visualize how performance changes as the model becomes less complex!\n",
        "\n",
        "The variables neighbors, train_accuracies, and test_accuracies, which you generated in the previous exercise, have all been preloaded for you. You will plot the results to aid in finding the optimal number of neighbors for your model."
      ],
      "metadata": {
        "id": "5vhEYQPOnqra"
      }
    },
    {
      "cell_type": "code",
      "source": [
        "# Add a title\n",
        "plt.title(\"KNN: Varying Number of Neighbors\")\n",
        "\n",
        "# Plot training accuracies\n",
        "plt.plot(neighbors, train_accuracies.values(), label=\"Training Accuracy\")\n",
        "\n",
        "# Plot test accuracies\n",
        "plt.plot(neighbors, test_accuracies.values(), label=\"Testing Accuracy\")\n",
        "\n",
        "plt.legend()\n",
        "plt.xlabel(\"Number of Neighbors\")\n",
        "plt.ylabel(\"Accuracy\")\n",
        "\n",
        "# Display the plot\n",
        "plt.show()"
      ],
      "metadata": {
        "colab": {
          "base_uri": "https://localhost:8080/",
          "height": 472
        },
        "id": "v-AtzFl-nqVO",
        "outputId": "a7162f35-fe82-4d23-9719-986ac1db0691"
      },
      "execution_count": 94,
      "outputs": [
        {
          "output_type": "display_data",
          "data": {
            "text/plain": [
              "<Figure size 640x480 with 1 Axes>"
            ],
            "image/png": "[encoded data removed]"
          },
          "metadata": {}
        }
      ]
    },
    {
      "cell_type": "markdown",
      "source": [
        "See how training accuracy decreases and test accuracy increases as the number of neighbors gets larger. For the test set, accuracy peaks with 7 neighbors, suggesting it is the optimal value for our model."
      ],
      "metadata": {
        "id": "5Yh5TkfroBrC"
      }
    },
    {
      "cell_type": "markdown",
      "source": [
        "# Regression"
      ],
      "metadata": {
        "id": "0wdN-ROOobc8"
      }
    },
    {
      "cell_type": "code",
      "source": [
        "print(diabetes_df.head())"
      ],
      "metadata": {
        "colab": {
          "base_uri": "https://localhost:8080/"
        },
        "id": "GIkky75ToCEM",
        "outputId": "990c5feb-68c5-4602-e924-4dd96ff6fbf4"
      },
      "execution_count": 109,
      "outputs": [
        {
          "output_type": "stream",
          "name": "stdout",
          "text": [
            "   pregnancies  glucose  diastolic  triceps  insulin   bmi    dpf  age  \\\n",
            "0            6      148         72       35        0  33.6  0.627   50   \n",
            "1            1       85         66       29        0  26.6  0.351   31   \n",
            "2            8      183         64        0        0  23.3  0.672   32   \n",
            "3            1       89         66       23       94  28.1  0.167   21   \n",
            "4            0      137         40       35      168  43.1  2.288   33   \n",
            "\n",
            "   diabetes  \n",
            "0         1  \n",
            "1         0  \n",
            "2         1  \n",
            "3         0  \n",
            "4         1  \n"
          ]
        }
      ]
    },
    {
      "cell_type": "code",
      "source": [
        "X = diabetes_df.drop('glucose', axis=1).values\n",
        "X"
      ],
      "metadata": {
        "colab": {
          "base_uri": "https://localhost:8080/"
        },
        "id": "Fl7hBZ_AorCA",
        "outputId": "99c03dae-b0fd-471f-a53e-9767d8edbc6d"
      },
      "execution_count": 110,
      "outputs": [
        {
          "output_type": "execute_result",
          "data": {
            "text/plain": [
              "array([[ 6.   , 72.   , 35.   , ...,  0.627, 50.   ,  1.   ],\n",
              "       [ 1.   , 66.   , 29.   , ...,  0.351, 31.   ,  0.   ],\n",
              "       [ 8.   , 64.   ,  0.   , ...,  0.672, 32.   ,  1.   ],\n",
              "       ...,\n",
              "       [ 5.   , 72.   , 23.   , ...,  0.245, 30.   ,  0.   ],\n",
              "       [ 1.   , 60.   ,  0.   , ...,  0.349, 47.   ,  1.   ],\n",
              "       [ 1.   , 70.   , 31.   , ...,  0.315, 23.   ,  0.   ]])"
            ]
          },
          "metadata": {},
          "execution_count": 110
        }
      ]
    },
    {
      "cell_type": "code",
      "source": [
        "y = diabetes_df['glucose'].values\n",
        "y[0:5]"
      ],
      "metadata": {
        "colab": {
          "base_uri": "https://localhost:8080/"
        },
        "id": "sXpzhvNepLmG",
        "outputId": "cbccd276-bc72-4812-91ab-6e02e411e93c"
      },
      "execution_count": 111,
      "outputs": [
        {
          "output_type": "execute_result",
          "data": {
            "text/plain": [
              "array([148,  85, 183,  89, 137])"
            ]
          },
          "metadata": {},
          "execution_count": 111
        }
      ]
    },
    {
      "cell_type": "markdown",
      "source": [
        "Making predictions from a single feature\n",
        "\n",
        "To start, let's try to predict blood glucose levels from a single feature: body mass index. To do this, we slice out the BMI column of X, which is the fourth column, storing as the variable X_bmi. \n",
        "\n",
        "Checking the shape of y and X_bmi, we see that they are both one-dimensional arrays"
      ],
      "metadata": {
        "id": "gSiR_d-fp--3"
      }
    },
    {
      "cell_type": "code",
      "source": [
        "X_bmi = X[:, 4]\n",
        "X_bmi = diabetes_df['bmi'].values # equivalent\n",
        "# y.shape, X_bmi.shape\n",
        "X_bmi[0:5]"
      ],
      "metadata": {
        "colab": {
          "base_uri": "https://localhost:8080/"
        },
        "id": "owKz2A46pt43",
        "outputId": "370bd3ae-954c-4082-b38f-b974148950b7"
      },
      "execution_count": 123,
      "outputs": [
        {
          "output_type": "execute_result",
          "data": {
            "text/plain": [
              "array([33.6, 26.6, 23.3, 28.1, 43.1])"
            ]
          },
          "metadata": {},
          "execution_count": 123
        }
      ]
    },
    {
      "cell_type": "markdown",
      "source": [
        "This is fine for y, but our features must be formatted as a two-dimensional array to be accepted by scikit-learn. To convert the shape of X_bmi we apply NumPy's dot-reshape method, passing minus one followed by one. Printing the shape again shows X_bmi is now the correct shape for our model."
      ],
      "metadata": {
        "id": "l6Bk93PhqcKk"
      }
    },
    {
      "cell_type": "code",
      "source": [
        "X_bmi = X_bmi.reshape(-1, 1)\n",
        "X_bmi.shape"
      ],
      "metadata": {
        "colab": {
          "base_uri": "https://localhost:8080/"
        },
        "id": "iwYDWFWFqSRb",
        "outputId": "7261a770-69eb-481f-c62b-c458f122c82d"
      },
      "execution_count": 124,
      "outputs": [
        {
          "output_type": "execute_result",
          "data": {
            "text/plain": [
              "(768, 1)"
            ]
          },
          "metadata": {},
          "execution_count": 124
        }
      ]
    },
    {
      "cell_type": "markdown",
      "source": [
        "Now, let's plot blood glucose levels as a function of body mass index. "
      ],
      "metadata": {
        "id": "NjKK0eGYq68e"
      }
    },
    {
      "cell_type": "code",
      "source": [
        "import matplotlib.pyplot as plt"
      ],
      "metadata": {
        "id": "1SfFkkbqqwX_"
      },
      "execution_count": 116,
      "outputs": []
    },
    {
      "cell_type": "code",
      "source": [
        "plt.scatter(X_bmi, y)\n",
        "plt.ylabel('Blood glucose (mg/dl)')\n",
        "plt.xlabel('BMI')\n",
        "plt.show()"
      ],
      "metadata": {
        "colab": {
          "base_uri": "https://localhost:8080/",
          "height": 449
        },
        "id": "eTlrEr0vrABB",
        "outputId": "310f2850-f86a-4575-a690-3db93cc0c460"
      },
      "execution_count": 125,
      "outputs": [
        {
          "output_type": "display_data",
          "data": {
            "text/plain": [
              "<Figure size 640x480 with 1 Axes>"
            ],
            "image/png": "[encoded data removed]"
          },
          "metadata": {}
        }
      ]
    },
    {
      "cell_type": "markdown",
      "source": [
        "We can see that, generally, as body mass index increases, blood glucose levels also tend to increase."
      ],
      "metadata": {
        "id": "bHBvXY20r49t"
      }
    },
    {
      "cell_type": "markdown",
      "source": [
        "It's time to fit a regression model to our data. We're going to use a model called linear regression, which fits a straight line to our data. We will explain the mechanics of linear regression in the next video, but first, let's see how to fit it and plot predictions."
      ],
      "metadata": {
        "id": "QID7HDW-sDzh"
      }
    },
    {
      "cell_type": "code",
      "source": [
        "# Import model\n",
        "from sklearn.linear_model import LinearRegression\n",
        "\n",
        "# Instantiate regression model\n",
        "reg = LinearRegression()"
      ],
      "metadata": {
        "id": "nBciipHOrIBP"
      },
      "execution_count": 126,
      "outputs": []
    },
    {
      "cell_type": "markdown",
      "source": [
        "As we are modeling the relationship between the feature, body mass index, and the target, blood glucose levels, rather than predicting target values for new observations, we fit the model to all of our feature observations. We do this by calling `reg.fit()` and passing in the feature data and the target variable, the same as we did for classification problems. "
      ],
      "metadata": {
        "id": "zCRk6W3zsZnp"
      }
    },
    {
      "cell_type": "code",
      "source": [
        "reg.fit(X_bmi, y)"
      ],
      "metadata": {
        "colab": {
          "base_uri": "https://localhost:8080/",
          "height": 74
        },
        "id": "8oK-sHIMsZHK",
        "outputId": "92b88974-6da7-473f-f9da-4bd73a47b975"
      },
      "execution_count": 127,
      "outputs": [
        {
          "output_type": "execute_result",
          "data": {
            "text/plain": [
              "LinearRegression()"
            ],
            "text/html": [
              "<style>#sk-container-id-5 {color: black;background-color: white;}#sk-container-id-5 pre{padding: 0;}#sk-container-id-5 div.sk-toggleable {background-color: white;}#sk-container-id-5 label.sk-toggleable__label {cursor: pointer;display: block;width: 100%;margin-bottom: 0;padding: 0.3em;box-sizing: border-box;text-align: center;}#sk-container-id-5 label.sk-toggleable__label-arrow:before {content: \"▸\";float: left;margin-right: 0.25em;color: #696969;}#sk-container-id-5 label.sk-toggleable__label-arrow:hover:before {color: black;}#sk-container-id-5 div.sk-estimator:hover label.sk-toggleable__label-arrow:before {color: black;}#sk-container-id-5 div.sk-toggleable__content {max-height: 0;max-width: 0;overflow: hidden;text-align: left;background-color: #f0f8ff;}#sk-container-id-5 div.sk-toggleable__content pre {margin: 0.2em;color: black;border-radius: 0.25em;background-color: #f0f8ff;}#sk-container-id-5 input.sk-toggleable__control:checked~div.sk-toggleable__content {max-height: 200px;max-width: 100%;overflow: auto;}#sk-container-id-5 input.sk-toggleable__control:checked~label.sk-toggleable__label-arrow:before {content: \"▾\";}#sk-container-id-5 div.sk-estimator input.sk-toggleable__control:checked~label.sk-toggleable__label {background-color: #d4ebff;}#sk-container-id-5 div.sk-label input.sk-toggleable__control:checked~label.sk-toggleable__label {background-color: #d4ebff;}#sk-container-id-5 input.sk-hidden--visually {border: 0;clip: rect(1px 1px 1px 1px);clip: rect(1px, 1px, 1px, 1px);height: 1px;margin: -1px;overflow: hidden;padding: 0;position: absolute;width: 1px;}#sk-container-id-5 div.sk-estimator {font-family: monospace;background-color: #f0f8ff;border: 1px dotted black;border-radius: 0.25em;box-sizing: border-box;margin-bottom: 0.5em;}#sk-container-id-5 div.sk-estimator:hover {background-color: #d4ebff;}#sk-container-id-5 div.sk-parallel-item::after {content: \"\";width: 100%;border-bottom: 1px solid gray;flex-grow: 1;}#sk-container-id-5 div.sk-label:hover label.sk-toggleable__label {background-color: #d4ebff;}#sk-container-id-5 div.sk-serial::before {content: \"\";position: absolute;border-left: 1px solid gray;box-sizing: border-box;top: 0;bottom: 0;left: 50%;z-index: 0;}#sk-container-id-5 div.sk-serial {display: flex;flex-direction: column;align-items: center;background-color: white;padding-right: 0.2em;padding-left: 0.2em;position: relative;}#sk-container-id-5 div.sk-item {position: relative;z-index: 1;}#sk-container-id-5 div.sk-parallel {display: flex;align-items: stretch;justify-content: center;background-color: white;position: relative;}#sk-container-id-5 div.sk-item::before, #sk-container-id-5 div.sk-parallel-item::before {content: \"\";position: absolute;border-left: 1px solid gray;box-sizing: border-box;top: 0;bottom: 0;left: 50%;z-index: -1;}#sk-container-id-5 div.sk-parallel-item {display: flex;flex-direction: column;z-index: 1;position: relative;background-color: white;}#sk-container-id-5 div.sk-parallel-item:first-child::after {align-self: flex-end;width: 50%;}#sk-container-id-5 div.sk-parallel-item:last-child::after {align-self: flex-start;width: 50%;}#sk-container-id-5 div.sk-parallel-item:only-child::after {width: 0;}#sk-container-id-5 div.sk-dashed-wrapped {border: 1px dashed gray;margin: 0 0.4em 0.5em 0.4em;box-sizing: border-box;padding-bottom: 0.4em;background-color: white;}#sk-container-id-5 div.sk-label label {font-family: monospace;font-weight: bold;display: inline-block;line-height: 1.2em;}#sk-container-id-5 div.sk-label-container {text-align: center;}#sk-container-id-5 div.sk-container {/* jupyter's `normalize.less` sets `[hidden] { display: none; }` but bootstrap.min.css set `[hidden] { display: none !important; }` so we also need the `!important` here to be able to override the default hidden behavior on the sphinx rendered scikit-learn.org. See: https://github.com/scikit-learn/scikit-learn/issues/21755 */display: inline-block !important;position: relative;}#sk-container-id-5 div.sk-text-repr-fallback {display: none;}</style><div id=\"sk-container-id-5\" class=\"sk-top-container\"><div class=\"sk-text-repr-fallback\"><pre>LinearRegression()</pre><b>In a Jupyter environment, please rerun this cell to show the HTML representation or trust the notebook. <br />On GitHub, the HTML representation is unable to render, please try loading this page with nbviewer.org.</b></div><div class=\"sk-container\" hidden><div class=\"sk-item\"><div class=\"sk-estimator sk-toggleable\"><input class=\"sk-toggleable__control sk-hidden--visually\" id=\"sk-estimator-id-5\" type=\"checkbox\" checked><label for=\"sk-estimator-id-5\" class=\"sk-toggleable__label sk-toggleable__label-arrow\">LinearRegression</label><div class=\"sk-toggleable__content\"><pre>LinearRegression()</pre></div></div></div></div></div>"
            ]
          },
          "metadata": {},
          "execution_count": 127
        }
      ]
    },
    {
      "cell_type": "markdown",
      "source": [
        "After this, we can create the predictions variable by calling reg-dot-predict and passing in our features. As we are predicting the target values of the features used to train the model, this gives us a line of best fit for our data."
      ],
      "metadata": {
        "id": "q7ehQttws0-3"
      }
    },
    {
      "cell_type": "code",
      "source": [
        "predictions = reg.predict(X_bmi)"
      ],
      "metadata": {
        "id": "jTSJthXStIeD"
      },
      "execution_count": 128,
      "outputs": []
    },
    {
      "cell_type": "code",
      "source": [
        "plt.scatter(X_bmi, y)\n",
        "\n",
        "plt.plot(X_bmi, predictions, color='black')\n",
        "\n",
        "plt.ylabel('Blood Glucose (mg/dl)')\n",
        "plt.xlabel('BMI')\n",
        "plt.show()"
      ],
      "metadata": {
        "colab": {
          "base_uri": "https://localhost:8080/",
          "height": 449
        },
        "id": "X7LgGv2wtJTn",
        "outputId": "15390779-a990-4bf0-cca3-e359efc5baf6"
      },
      "execution_count": 132,
      "outputs": [
        {
          "output_type": "display_data",
          "data": {
            "text/plain": [
              "<Figure size 640x480 with 1 Axes>"
            ],
            "image/png": "[encoded data removed]"
          },
          "metadata": {}
        }
      ]
    },
    {
      "cell_type": "markdown",
      "source": [
        "### Creating features"
      ],
      "metadata": {
        "id": "du1JYYZ1vmBd"
      }
    },
    {
      "cell_type": "markdown",
      "source": [
        "In this chapter, you will work with a dataset called sales_df, which contains information on advertising campaign expenditure across different media types, and the number of dollars generated in sales for the respective campaign."
      ],
      "metadata": {
        "id": "6N4j33ubv3ee"
      }
    },
    {
      "cell_type": "code",
      "source": [
        "sales_df = sales_df.drop('influencer', axis=1)"
      ],
      "metadata": {
        "id": "lO9h3TJ1tVHf"
      },
      "execution_count": 137,
      "outputs": []
    },
    {
      "cell_type": "code",
      "source": [
        "print(sales_df.head())"
      ],
      "metadata": {
        "colab": {
          "base_uri": "https://localhost:8080/"
        },
        "id": "xjbgbigZvtB8",
        "outputId": "18d52755-c80c-451b-af2b-128ed94b3966"
      },
      "execution_count": 139,
      "outputs": [
        {
          "output_type": "stream",
          "name": "stdout",
          "text": [
            "        tv     radio  social_media      sales\n",
            "0  16000.0   6566.23       2907.98   54732.76\n",
            "1  13000.0   9237.76       2409.57   46677.90\n",
            "2  41000.0  15886.45       2913.41  150177.83\n",
            "3  83000.0  30020.03       6922.30  298246.34\n",
            "4  15000.0   8437.41       1406.00   56594.18\n"
          ]
        }
      ]
    },
    {
      "cell_type": "markdown",
      "source": [
        "You will use the advertising expenditure as features to predict sales values, initially working with the \"radio\" column. \n",
        "\n",
        "However, before you make any predictions you will need to create the feature and target arrays, reshaping them to the correct format for scikit-learn."
      ],
      "metadata": {
        "id": "QikoBAnfv6wT"
      }
    },
    {
      "cell_type": "code",
      "source": [
        "# Create X from the radio column's values\n",
        "X = sales_df['radio'].values\n",
        "\n",
        "# Create y from the sales column's values\n",
        "y = sales_df['sales'].values\n",
        "\n",
        "# Reshape X\n",
        "X = X.reshape(-1, 1)\n",
        "\n",
        "# Check the shape of the features and targets\n",
        "print(X.shape, y.shape)"
      ],
      "metadata": {
        "colab": {
          "base_uri": "https://localhost:8080/"
        },
        "id": "CjtTvdJ1vtNI",
        "outputId": "89e78c3e-de8d-4cad-85e1-63b88747cc6d"
      },
      "execution_count": 143,
      "outputs": [
        {
          "output_type": "stream",
          "name": "stdout",
          "text": [
            "(4546, 1) (4546,)\n"
          ]
        }
      ]
    },
    {
      "cell_type": "markdown",
      "source": [
        "### Building a linear regression model"
      ],
      "metadata": {
        "id": "bVjq0xmfwq54"
      }
    },
    {
      "cell_type": "markdown",
      "source": [
        "Now you have created your feature and target arrays, you will train a linear regression model on all feature and target values.\n",
        "\n",
        "As the goal is to assess the relationship between the feature and target values there is no need to split the data into training and test sets."
      ],
      "metadata": {
        "id": "FMHdqswWwxK9"
      }
    },
    {
      "cell_type": "code",
      "source": [
        "y = sales_df[\"sales\"].values\n",
        "X = sales_df[\"radio\"].values.reshape(-1, 1)"
      ],
      "metadata": {
        "id": "qY7q0ot1wWhZ"
      },
      "execution_count": null,
      "outputs": []
    },
    {
      "cell_type": "code",
      "source": [
        "# Import LinearRegression\n",
        "from sklearn.linear_model import LinearRegression\n",
        "\n",
        "# Create the model\n",
        "reg = LinearRegression()\n",
        "\n",
        "# Fit the model to the data\n",
        "reg.fit(X, y)\n",
        "\n",
        "# Make predictions\n",
        "predictions = reg.predict(X)\n",
        "\n",
        "print(predictions[:5])"
      ],
      "metadata": {
        "colab": {
          "base_uri": "https://localhost:8080/"
        },
        "id": "CBhvYskXw2D8",
        "outputId": "5228d78e-5a8c-460e-da5b-e1bafceabbc4"
      },
      "execution_count": 144,
      "outputs": [
        {
          "output_type": "stream",
          "name": "stdout",
          "text": [
            "[ 95491.17119147 117829.51038393 173423.38071499 291603.11444202\n",
            " 111137.28167129]\n"
          ]
        }
      ]
    },
    {
      "cell_type": "markdown",
      "source": [
        "See how sales values for the first five predictions range from 95,000 to over 290,000. Let's visualize the model's fit."
      ],
      "metadata": {
        "id": "KchtFTn4xJtw"
      }
    },
    {
      "cell_type": "markdown",
      "source": [
        "### Visualizing a linear regression model"
      ],
      "metadata": {
        "id": "hZLviXP_xTR4"
      }
    },
    {
      "cell_type": "markdown",
      "source": [
        "Now you have built your linear regression model and trained it using all available observations, you can visualize how well the model fits the data. This allows you to interpret the relationship between `radio` advertising expenditure and `sales` values. "
      ],
      "metadata": {
        "id": "2Osq9v0YxXbr"
      }
    },
    {
      "cell_type": "code",
      "source": [
        "# Import matplotlib.pyplot\n",
        "import matplotlib.pyplot as plt\n",
        "\n",
        "# Create scatter plot\n",
        "plt.scatter(X, y, color=\"blue\")\n",
        "\n",
        "# Create line plot\n",
        "plt.plot(X, predictions, color=\"red\")\n",
        "plt.xlabel(\"Radio Expenditure ($)\")\n",
        "plt.ylabel(\"Sales ($)\")\n",
        "\n",
        "# Display the plot\n",
        "plt.show()"
      ],
      "metadata": {
        "colab": {
          "base_uri": "https://localhost:8080/",
          "height": 449
        },
        "id": "vlgvsFnzxFVq",
        "outputId": "76a7cb6c-c832-40c6-db56-6211036372c2"
      },
      "execution_count": 146,
      "outputs": [
        {
          "output_type": "display_data",
          "data": {
            "text/plain": [
              "<Figure size 640x480 with 1 Axes>"
            ],
            "image/png": "[encoded data removed]"
          },
          "metadata": {}
        }
      ]
    },
    {
      "cell_type": "markdown",
      "source": [
        "The model nicely captures a near-perfect linear correlation between radio advertising expenditure and sales! Now let's take a look at what is going on under the hood to calculate this relationship."
      ],
      "metadata": {
        "id": "b1Nn1bcxx_06"
      }
    },
    {
      "cell_type": "markdown",
      "source": [
        "## The basics of linear regression"
      ],
      "metadata": {
        "id": "GgKJ9cq7yVTb"
      }
    },
    {
      "cell_type": "code",
      "source": [],
      "metadata": {
        "id": "bfNK6bcax1Jq"
      },
      "execution_count": null,
      "outputs": []
    }
  ]
}